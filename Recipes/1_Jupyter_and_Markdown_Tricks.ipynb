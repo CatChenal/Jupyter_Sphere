{
 "cells": [
  {
   "cell_type": "markdown",
   "metadata": {},
   "source": [
    "# Jupyter Environment and Markdown tricks\n",
    "Functions in `jupyter_utils.py`\n",
    "***"
   ]
  },
  {
   "cell_type": "code",
   "execution_count": 1,
   "metadata": {},
   "outputs": [],
   "source": [
    "import IPython\n",
    "IPython.__version__\n",
    "# '7.11.0'\n",
    "\n",
    "from IPython import get_ipython\n",
    "from IPython.display import Markdown"
   ]
  },
  {
   "cell_type": "markdown",
   "metadata": {},
   "source": [
    "---\n",
    "### The html `<figure>` tag usage example I give in [README](./README.md) uses a picture from a url, this one uses a local file:\n",
    "\n",
    "**Code in next Markdown cell:**\n",
    "```\n",
    "<div class=\"alert alert-info\"><p style=\"font-size:1.2em\"><b>Info: </b><br>&emsp;&emsp;* img.src can be local<br>&emsp;&emsp;* img.title attribute holds the tooltip text</p></div>\n",
    "\n",
    "<figure style=\"display:inline-block; text-align:center\">\n",
    "  <img src=\"images/Finley.JPG\" \n",
    "       alt=\"x\"\n",
    "       style=\"display:block; width:400px; height:400px;\"\n",
    "       title=\"John Finley Walk\">\n",
    "  <figcaption style=\"color:teal; font-weight:bold; font-family: Arial, Helvetica, sans-serif;\">\n",
    "             Figure 2 (local) - <a href=\"https://en.wikipedia.org/wiki/John_Huston_Finley\">John Finley</a>\n",
    "  </figcaption>\n",
    "</figure>\n",
    "```\n",
    "\n",
    "**Output:**"
   ]
  },
  {
   "cell_type": "markdown",
   "metadata": {},
   "source": [
    "<div class=\"alert alert-info\"><p style=\"font-size:1.2em\"><b>Info: </b><br>&emsp;&emsp;* img.src can be local<br>&emsp;&emsp;* img.title attribute holds the tooltip text</p></div>\n",
    "\n",
    "<figure style=\"display:inline-block; text-align:center\">\n",
    "  <img src=\"images/Finley.JPG\" \n",
    "       alt=\"x\"\n",
    "       style=\"display:block; width:400px; height:400px;\"\n",
    "       title=\"John Finley Walk\">\n",
    "  <figcaption style=\"color:teal; font-weight:bold; font-family: Arial, Helvetica, sans-serif;\">\n",
    "             Figure 2 (local) - <a href=\"https://en.wikipedia.org/wiki/John_Huston_Finley\">John Finley</a>\n",
    "  </figcaption>\n",
    "</figure>"
   ]
  },
  {
   "cell_type": "markdown",
   "metadata": {},
   "source": [
    "---\n",
    "### Function to detect whether a notebook is running as a stand-alone Jupyter notebook, or as a JupyterLab notebook. "
   ]
  },
  {
   "cell_type": "code",
   "execution_count": 2,
   "metadata": {},
   "outputs": [
    {
     "name": "stdout",
     "output_type": "stream",
     "text": [
      "is_lab_notebook() = True\n"
     ]
    }
   ],
   "source": [
    "def is_lab_notebook():\n",
    "    import re\n",
    "    import psutil\n",
    "\n",
    "    return any(re.search('jupyter-lab-script', x)\n",
    "               for x in psutil.Process().parent().cmdline())\n",
    "\n",
    "\n",
    "print('is_lab_notebook() =', is_lab_notebook())"
   ]
  },
  {
   "cell_type": "markdown",
   "metadata": {},
   "source": [
    "---\n",
    "### Functions to insert a new cell, with option to overite the current code cell with its output.  \n",
    "Note: See <i><b>Section 1</b></i> for details."
   ]
  },
  {
   "cell_type": "code",
   "execution_count": 3,
   "metadata": {},
   "outputs": [],
   "source": [
    "def ipy_set_next_input(cell_contents, replace_cell):\n",
    "    if replace_cell:\n",
    "        shell = get_ipython()\n",
    "\n",
    "        payload = dict(\n",
    "            source='set_next_input',\n",
    "            text=cell_contents,\n",
    "            replace=True,\n",
    "        )\n",
    "        shell.payload_manager.write_payload(payload, single=False)\n",
    "    else:\n",
    "        return Markdown(cell_contents)\n",
    "    \n",
    "\n",
    "def insert_md_div(div_text_format, div_data=None, replace_cell=False):\n",
    "    \"\"\"\n",
    "    Output Markdown of string with inserted data.\n",
    "    div_text_format, e.g.: \n",
    "               \"this is my data: {}\" if div_data=x or [x]\n",
    "               \"that too: {}, {}\" if div_data=[x,y] or (x,y)\n",
    "     => assume # place holders == # data items.\n",
    "    \"\"\"\n",
    "    if div_data is None or '{' not in div_text_format:\n",
    "        # todo: flag error? (bc function not needed)\n",
    "        return Markdown(div_text_format)\n",
    "\n",
    "    mismatch_err = 'Format placeholders != data items'\n",
    "    if isinstance(div_data, (tuple, list)):\n",
    "        if div_text_format.count('{}') != len(div_data):\n",
    "            raise IndexError(mismatch_err)\n",
    "        div = div_text_format.format(*div_data)\n",
    "        \n",
    "    elif isinstance(div_data, dict):\n",
    "        if '{}' not in div_text_format:\n",
    "            # eg, assume keys given as indices: 'a is {a}, b is {b}'\n",
    "            div = div_text_format.format_map(div_data)\n",
    "        else:\n",
    "            if div_text_format.count('{}') != len(div_data.values()):\n",
    "                raise IndexError(mismatch_err)\n",
    "            div = div_text_format.format(*div_data.values())\n",
    "\n",
    "    else:\n",
    "        if div_text_format.count('{}') != 1:\n",
    "            raise IndexError(mismatch_err)\n",
    "        div = div_text_format.format(div_data)\n",
    "\n",
    "    return ipy_set_next_input(div, replace_cell)\n",
    "\n",
    "\n",
    "def insert_alert_div(div_class, div_header=None, div_text=None, \n",
    "                     use_class_as_header=True,\n",
    "                     replace_cell=False):\n",
    "    \"\"\"\n",
    "    use_class_as_header: if div_header=None, div_class is used if \n",
    "                         use_class_as_header=True\n",
    "    Behaviour with `replace_cell=True`:\n",
    "    The cell is overwritten with the output string:\n",
    "    ```\n",
    "    [x]\n",
    "    alert_div('warning', 'Tip: ', 'some tip here', replace_cell=True)\n",
    "    The [x] cell becomes:\n",
    "    [x]\n",
    "    <div class=\"alert alert-warning\"><b>Tip: </b>some tip here</div>\n",
    "    ```\n",
    "    However, the cell mode is still in 'code' not 'markdown', so the desired output\n",
    "    is obtained only after *manually* changing the cell mode to Markdown.\n",
    "    \n",
    "    If `replace_cell=False (default)`, the Markdown string is displayed as any code output cell,\n",
    "    i.e. below the code cell.\n",
    "    \"\"\"\n",
    "    accepted = ['info', 'warning', 'danger']\n",
    "    if div_class.lower() not in accepted:\n",
    "        s = f'<div class=\"alert\"><b>Wrong class:</b> `div_class` not in {accepted}</div>'\n",
    "        return Markdown(s)\n",
    "    \n",
    "    div_class = div_class.lower()\n",
    "    div_class = 'alert-' + div_class\n",
    "    div = f'<div class=\"alert {div_class}\"><p style=\"font-size:1.2em\">'\n",
    "    \n",
    "    headr = div_header is not None\n",
    "    if use_class_as_header and not headr:\n",
    "        div_header = div_class.capitalize()\n",
    "        headr = True\n",
    "        \n",
    "    if headr:\n",
    "        div_header = div_header.capitalize()\n",
    "        div += f'<b>{div_header}</b>'\n",
    "        \n",
    "    if div_text is not None:\n",
    "        div_text =  div_text[0].upper() + div_text[1:]\n",
    "        if headr:\n",
    "            div += f'<br>&emsp;&emsp;{div_text}'\n",
    "        else:\n",
    "            div += f'&ensp;{div_text}'\n",
    "    \n",
    "    div += '</p></div>'\n",
    "\n",
    "    return ipy_set_next_input(div, replace_cell)"
   ]
  },
  {
   "cell_type": "markdown",
   "metadata": {},
   "source": [
    "<div style=\"text-align:center;background:#c2d3ef;padding:16px;color:#ffffff;font-size:2em;width:98%\"><h3>Section 1</h3>Workaround for using variables in a Markdown cell of a JupyterLab notebook</div>"
   ]
  },
  {
   "cell_type": "markdown",
   "metadata": {},
   "source": [
    "# The need: \n",
    "\n",
    "Let variable v be 123.  \n",
    "In a Markdown cell of a classic notebook, this code, `My variable is: {{v}}.` will be rendered as \"My variable is: 123.\", which is expected.  \n",
    "However, and for reasons I still don't understand, in a lab notebook, the same line will be rendered as \"My variable is: {{v}}.\", i.e. the smart rendering is lost.\n",
    "\n",
    "#### This is a documented \"Markdown in JupyterLab\" [limitation](https://github.com/ipython-contrib/jupyter_contrib_nbextensions/issues/1360) issue (as of Jan, 2020).\n",
    "\n",
    "## Actual demo (will not fail in a classic notebook):"
   ]
  },
  {
   "cell_type": "code",
   "execution_count": 4,
   "metadata": {},
   "outputs": [],
   "source": [
    "v = 123"
   ]
  },
  {
   "cell_type": "markdown",
   "metadata": {},
   "source": [
    "### The next line in this *Markdown cell* is `My variable is: {{v}}`:  <br>\n",
    "\n",
    "My variable is: {{v}}"
   ]
  },
  {
   "cell_type": "markdown",
   "metadata": {},
   "source": [
    "## A workaround is to use the Markdown function from IPython.display module:"
   ]
  },
  {
   "cell_type": "code",
   "execution_count": 5,
   "metadata": {},
   "outputs": [
    {
     "data": {
      "text/markdown": [
       "My variable is: 123."
      ],
      "text/plain": [
       "<IPython.core.display.Markdown object>"
      ]
     },
     "execution_count": 5,
     "metadata": {},
     "output_type": "execute_result"
    }
   ],
   "source": [
    "Markdown(f'My variable is: {v}.')"
   ]
  },
  {
   "cell_type": "markdown",
   "metadata": {},
   "source": [
    "### I find the use of `display.Markdown` too limiting, so I wrote some functions."
   ]
  },
  {
   "cell_type": "markdown",
   "metadata": {},
   "source": [
    "---\n",
    "# Functions:\n",
    "\n",
    "\n",
    "### 1. `insert_md_div` is used to compose markdown cells that use variables in jupyterlab. \n",
    "### 2. `insert_alert_div` is used to style markdown cells as visual blocks. \n",
    "\n",
    "(These functions use `ipy_set_next_input` defined in the first code cell.)\n",
    "\n",
    "## Caveats / To Do's:\n",
    "\n",
    "The behavior of these functions depends on the value of argument `replace_cell (bool, default False)`:\n",
    "* `False` leads to the usual: the code cell contains the function call and a Markdown output cell is created.\n",
    "* `True` will replace the code cell with the Markdown string\n",
    "\n",
    "Unfortunately, I have not yet found out how to programmatically:  \n",
    "a) change the format of the replaced code cell to Markdown  \n",
    "b) run it  \n",
    "\n",
    "Operations a and b have to be done mannually."
   ]
  },
  {
   "cell_type": "markdown",
   "metadata": {},
   "source": [
    "---\n",
    "### Variables to format section headers for use with `ipy_set_next_input`:\n",
    "**Call example:** `ipy_set_next_input(section1, True)`"
   ]
  },
  {
   "cell_type": "code",
   "execution_count": 6,
   "metadata": {},
   "outputs": [],
   "source": [
    "HDR_style = \"text-align:center;background:#c2d3ef;padding:16px;color:#ffffff;font-size:2em;width:98%\"\n",
    "\n",
    "title1='<h3>Section 1</h3>Workaround for using variables in a Markdown cell of a JupyterLab notebook'\n",
    "section1 = f'<div style=\"{HDR_style}\">{title1}</div>'\n",
    "\n",
    "title2 = '<h3>Section 2</h3>Format selected string portions with bold'\n",
    "section2 = f'<div style=\"{HDR_style}\">{title2}</div>'\n",
    "\n",
    "title3 = '<h3>Section 3</h3>Displaying images with a caption'\n",
    "section3 = f'<div style=\"{HDR_style}\">{title3}</div>'\n",
    "\n",
    "title4 = '<h3>Section 4</h3>Miscellany'\n",
    "section4 = f'<div style=\"{HDR_style}\">{title4}</div>'"
   ]
  },
  {
   "cell_type": "markdown",
   "metadata": {},
   "source": [
    "***\n",
    "***\n",
    "# A. Call examples for `insert_md_div`(div_text_format, div_data=None, replace_cell=False)"
   ]
  },
  {
   "cell_type": "markdown",
   "metadata": {},
   "source": [
    "### Test data for `insert_md_div`:"
   ]
  },
  {
   "cell_type": "code",
   "execution_count": 7,
   "metadata": {},
   "outputs": [],
   "source": [
    "# A value\n",
    "x1 = 20\n",
    "# A list\n",
    "x2 = [20, 4]\n",
    "# A dict\n",
    "x3 = {'a':20, 'b':4, 'ooo':0}\n",
    "\n",
    "# A format string preset with dict keys\n",
    "str_with_keys_as_indices = 'k1 is: {a}, k2 is: {b}, k3 is: {ooo}'"
   ]
  },
  {
   "cell_type": "markdown",
   "metadata": {},
   "source": [
    "###  A.1: Various calls of `insert_md_div` with output in new cell (default):"
   ]
  },
  {
   "cell_type": "code",
   "execution_count": 8,
   "metadata": {},
   "outputs": [
    {
     "data": {
      "text/markdown": [
       "$Variable: 20$"
      ],
      "text/plain": [
       "<IPython.core.display.Markdown object>"
      ]
     },
     "execution_count": 8,
     "metadata": {},
     "output_type": "execute_result"
    }
   ],
   "source": [
    "insert_md_div('$Variable: {}$', x1)"
   ]
  },
  {
   "cell_type": "code",
   "execution_count": 9,
   "metadata": {},
   "outputs": [
    {
     "data": {
      "text/markdown": [
       "Variables: 20, 4"
      ],
      "text/plain": [
       "<IPython.core.display.Markdown object>"
      ]
     },
     "execution_count": 9,
     "metadata": {},
     "output_type": "execute_result"
    }
   ],
   "source": [
    "insert_md_div('Variables: {}, {}', x2)"
   ]
  },
  {
   "cell_type": "code",
   "execution_count": 10,
   "metadata": {},
   "outputs": [
    {
     "data": {
      "text/markdown": [
       "k1 is: 20, k2 is: 4, k3 is: 0"
      ],
      "text/plain": [
       "<IPython.core.display.Markdown object>"
      ]
     },
     "execution_count": 10,
     "metadata": {},
     "output_type": "execute_result"
    }
   ],
   "source": [
    "insert_md_div(str_with_keys_as_indices, x3)"
   ]
  },
  {
   "cell_type": "markdown",
   "metadata": {},
   "source": [
    "### A.2:  Call of `insert_md_div` in same cell by passing `replace_cell=True`:\n",
    "```\n",
    "insert_md_div(\"**variable**: {}\", x1, replace_cell=True)  // input code\n",
    "```\n",
    "```\n",
    "**variable**: 20  // (same cell) output\n",
    "```\n",
    "\n",
    "* <strong>Note: The Code cell must be changed to Markdown and executed: I have not found a way to do this programmatically (yet)!"
   ]
  },
  {
   "cell_type": "code",
   "execution_count": null,
   "metadata": {},
   "outputs": [],
   "source": [
    "**variable**: 20"
   ]
  },
  {
   "cell_type": "markdown",
   "metadata": {},
   "source": [
    "***\n",
    "***\n",
    "# B. Call examples for `insert_alert_div`\n",
    "```\n",
    "insert_alert_div(div_class,\n",
    "                 div_header=None, div_text=None, \n",
    "                 use_class_as_header=True,  # applied if div_header=None\n",
    "                 replace_cell=False)\n",
    "```"
   ]
  },
  {
   "cell_type": "markdown",
   "metadata": {},
   "source": [
    "### B.1: `insert_alert_div` in new cell with various alerts:"
   ]
  },
  {
   "cell_type": "markdown",
   "metadata": {},
   "source": [
    "A blank div with the info-class color:"
   ]
  },
  {
   "cell_type": "code",
   "execution_count": 12,
   "metadata": {},
   "outputs": [
    {
     "data": {
      "text/markdown": [
       "<div class=\"alert alert-info\"><p style=\"font-size:1.2em\"></p></div>"
      ],
      "text/plain": [
       "<IPython.core.display.Markdown object>"
      ]
     },
     "execution_count": 12,
     "metadata": {},
     "output_type": "execute_result"
    }
   ],
   "source": [
    "insert_alert_div('info', use_class_as_header=False)"
   ]
  },
  {
   "cell_type": "code",
   "execution_count": 13,
   "metadata": {},
   "outputs": [
    {
     "data": {
      "text/markdown": [
       "<div class=\"alert alert-info\"><p style=\"font-size:1.2em\"><b>Alert-info</b></p></div>"
      ],
      "text/plain": [
       "<IPython.core.display.Markdown object>"
      ]
     },
     "execution_count": 13,
     "metadata": {},
     "output_type": "execute_result"
    }
   ],
   "source": [
    "insert_alert_div('info')"
   ]
  },
  {
   "cell_type": "markdown",
   "metadata": {},
   "source": [
    "The switch `use_class_as_header=True` does not apply if div_header is provided:"
   ]
  },
  {
   "cell_type": "code",
   "execution_count": 14,
   "metadata": {},
   "outputs": [
    {
     "data": {
      "text/markdown": [
       "<div class=\"alert alert-info\"><p style=\"font-size:1.2em\"><b>Information:</b><br>&emsp;&emsp;Some info here</p></div>"
      ],
      "text/plain": [
       "<IPython.core.display.Markdown object>"
      ]
     },
     "execution_count": 14,
     "metadata": {},
     "output_type": "execute_result"
    }
   ],
   "source": [
    "insert_alert_div('info', 'Information:', 'some info here', use_class_as_header=True)"
   ]
  },
  {
   "cell_type": "code",
   "execution_count": 15,
   "metadata": {},
   "outputs": [
    {
     "data": {
      "text/markdown": [
       "<div class=\"alert alert-info\"><p style=\"font-size:1.2em\"><b>Info header without text</b></p></div>"
      ],
      "text/plain": [
       "<IPython.core.display.Markdown object>"
      ]
     },
     "execution_count": 15,
     "metadata": {},
     "output_type": "execute_result"
    }
   ],
   "source": [
    "insert_alert_div('info', 'info header without text')"
   ]
  },
  {
   "cell_type": "code",
   "execution_count": 16,
   "metadata": {},
   "outputs": [
    {
     "data": {
      "text/markdown": [
       "<div class=\"alert alert-info\"><p style=\"font-size:1.2em\">&ensp;Info line without header</p></div>"
      ],
      "text/plain": [
       "<IPython.core.display.Markdown object>"
      ]
     },
     "execution_count": 16,
     "metadata": {},
     "output_type": "execute_result"
    }
   ],
   "source": [
    "insert_alert_div('info', div_text='info line without header', use_class_as_header=False)"
   ]
  },
  {
   "cell_type": "code",
   "execution_count": 17,
   "metadata": {},
   "outputs": [
    {
     "data": {
      "text/markdown": [
       "<div class=\"alert alert-warning\"><p style=\"font-size:1.2em\"><b>Alert-warning</b><br>&emsp;&emsp;Some warning HERE.</p></div>"
      ],
      "text/plain": [
       "<IPython.core.display.Markdown object>"
      ]
     },
     "execution_count": 17,
     "metadata": {},
     "output_type": "execute_result"
    }
   ],
   "source": [
    "insert_alert_div('warning', div_text='some warning HERE.')"
   ]
  },
  {
   "cell_type": "code",
   "execution_count": 18,
   "metadata": {},
   "outputs": [
    {
     "data": {
      "text/markdown": [
       "<div class=\"alert alert-danger\"><p style=\"font-size:1.2em\"><b>Wait!: </b><br>&emsp;&emsp;Use with caution!!</p></div>"
      ],
      "text/plain": [
       "<IPython.core.display.Markdown object>"
      ]
     },
     "execution_count": 18,
     "metadata": {},
     "output_type": "execute_result"
    }
   ],
   "source": [
    "insert_alert_div('danger', 'Wait!: ', 'Use with caution!!')"
   ]
  },
  {
   "cell_type": "code",
   "execution_count": 19,
   "metadata": {},
   "outputs": [
    {
     "data": {
      "text/markdown": [
       "<div class=\"alert\"><b>Wrong class:</b> `div_class` not in ['info', 'warning', 'danger']</div>"
      ],
      "text/plain": [
       "<IPython.core.display.Markdown object>"
      ]
     },
     "execution_count": 19,
     "metadata": {},
     "output_type": "execute_result"
    }
   ],
   "source": [
    "insert_alert_div('comment', 'Wait!: ', 'Use with caution!!')"
   ]
  },
  {
   "cell_type": "markdown",
   "metadata": {},
   "source": [
    "### B.2:  `insert_alert_div` in same cell (with same caveats as in A: change to Markdown, then execute needed): \n",
    "Before execution, the next cell contained:\n",
    "```\n",
    "insert_alert_div('info', 'info: ', 'some info here', replace_cell=True)\n",
    "```"
   ]
  },
  {
   "cell_type": "code",
   "execution_count": null,
   "metadata": {},
   "outputs": [],
   "source": [
    "<div class=\"alert alert-info\"><p style=\"font-size:1.2em\"><b>Info: </b><br>&emsp;&emsp;Some info here</p></div>"
   ]
  },
  {
   "cell_type": "markdown",
   "metadata": {},
   "source": [
    "***\n",
    "# C. A more elaborate Latex in Markdown example:"
   ]
  },
  {
   "cell_type": "markdown",
   "metadata": {},
   "source": [
    "<div class=\"alert alert-info\"><p style=\"font-size:1.2em\"><b>Note:</b><br>&emsp;&emsp;A markdown cell should display latex (i.e. in many cases, there is no need for <i>display.Latex</i>)</p></div>"
   ]
  },
  {
   "cell_type": "code",
   "execution_count": 21,
   "metadata": {},
   "outputs": [],
   "source": [
    "import numpy as np\n",
    "\n",
    "def poly_to_latex_str(p):\n",
    "    terms = ['{:.2g}'.format(p.coef[0])]\n",
    "    if len(p) > 1:\n",
    "        term = 'x'\n",
    "        c = p.coef[1]\n",
    "        if c != 1:\n",
    "            term = ('{:.2g}'.format(c)) + term\n",
    "        terms.append(term)\n",
    "    if len(p) > 2:\n",
    "        for i in range(2, len(p)):\n",
    "            term = 'x^{:d}'.format(i)\n",
    "            c = p.coef[i]\n",
    "            if c != 1:\n",
    "                term = ('{:.2g}'.format(c)) + term\n",
    "            terms.append(term)\n",
    "    px = '$P(x) = {:s}$'.format(' + '.join(terms))\n",
    "    px += ', $x \\in [{:.2g},\\ {:.2g}]$'.format(*p.domain)\n",
    "    return px"
   ]
  },
  {
   "cell_type": "code",
   "execution_count": 22,
   "metadata": {},
   "outputs": [
    {
     "name": "stdout",
     "output_type": "stream",
     "text": [
      "Polynomial repr from numpy:\n",
      "\tPolynomial([1., 2., 3.], domain=[-10.,  10.], window=[-1,  1])\n"
     ]
    },
    {
     "data": {
      "text/markdown": [
       "**New format:**<br>&emsp;&emsp;$P(x) = 1 + 2x + 3x^2$, $x \\in [-10,\\ 10]$"
      ],
      "text/plain": [
       "<IPython.core.display.Markdown object>"
      ]
     },
     "execution_count": 22,
     "metadata": {},
     "output_type": "execute_result"
    }
   ],
   "source": [
    "p = np.polynomial.Polynomial([1,2,3], domain=[-10, 10])\n",
    "print('Polynomial repr from numpy:\\n\\t{!r}'.format(p))\n",
    "\n",
    "insert_md_div('**New format:**<br>&emsp;&emsp;' + poly_to_latex_str(p))"
   ]
  },
  {
   "cell_type": "markdown",
   "metadata": {},
   "source": [
    "#### Same with cell replacement:"
   ]
  },
  {
   "cell_type": "code",
   "execution_count": 23,
   "metadata": {},
   "outputs": [],
   "source": [
    "# Prep inputs:\n",
    "\n",
    "px = '**New format:**<br>&emsp;&emsp;$P(x) = {} + {}x + {}x^2$, $x \\\\in [{},\\\\ {}]$'\n",
    "data = [1,2,3,-5,5]"
   ]
  },
  {
   "cell_type": "markdown",
   "metadata": {},
   "source": [
    "**Call**: `insert_md_div(px, data, replace_cell=True)`"
   ]
  },
  {
   "cell_type": "code",
   "execution_count": null,
   "metadata": {},
   "outputs": [],
   "source": [
    "**New format:**<br>&emsp;&emsp;$P(x) = 1 + 2x + 3x^2$, $x \\in [-5,\\ 5]$"
   ]
  },
  {
   "cell_type": "markdown",
   "metadata": {},
   "source": [
    "<div style=\"text-align:center;background:#c2d3ef;padding:16px;color:#ffffff;font-size:2em;width:98%\"><h3>Section 2</h3>Format selected string portions with bold</div>"
   ]
  },
  {
   "cell_type": "markdown",
   "metadata": {},
   "source": [
    "# Function: format_with_bold"
   ]
  },
  {
   "cell_type": "code",
   "execution_count": 24,
   "metadata": {},
   "outputs": [],
   "source": [
    "def format_with_bold(s_format, data=None):\n",
    "    \"\"\"\n",
    "    Returns the string with all placeholders preceeded by '_b' replaced \n",
    "    with a bold indicator value;\n",
    "    \n",
    "    :param: s_format: a string format; \n",
    "            if contains '_b{}b_' this term gets bolded.\n",
    "    :param: s: a string or value\n",
    "    \n",
    "    Note 1: '... _b{}; something {}b_ ...' is a valid format.\n",
    "    Note 2: IndexError is raised using the output format only when\n",
    "            the input tuple length < number of placeholders ({});\n",
    "            it is silent when the later are greater (see Example).\n",
    "    \n",
    "    Example:\n",
    "    # No error:\n",
    "    fmt = 'What! _b{}b_; yes: _b{}b_; no: {}.'\n",
    "    print(format_with_bold(fmt).format('Cat', 'dog', 3, '@no000'))\n",
    "    # IndexError:\n",
    "    print(format_with_bold(fmt).format('Cat', 'dog'))\n",
    "    \"\"\"\n",
    "    if data is None:\n",
    "        raise TypeError('Missing data (is None).')\n",
    "    if '{' not in s_format:\n",
    "        raise TypeError('Missing format placeholders.')\n",
    "                    \n",
    "    # Check for paired markers:\n",
    "    if s_format.count('_b') != s_format.count('b_'):\n",
    "        err_msg1 = \"Bold indicators not paired. Expected '_b with b_'.\"\n",
    "        raise LookupError(err_msg1)\n",
    "    \n",
    "    # Check for start bold marker:\n",
    "    b1 = '_b'\n",
    "    i = s_format.find(b1 + '{')\n",
    "    \n",
    "    # Check marker order: '_b' before 'b_':\n",
    "    if i > s_format.find('}' + 'b_'):\n",
    "        err_msg2 = \"Starting bold indicator not found. Expected '_b before b_'.\"\n",
    "        raise LookupError(err_msg2)\n",
    "        \n",
    "    while i != -1:\n",
    "        # Check for trailing bold marker:\n",
    "        b2 = 'b_'\n",
    "        j = s_format.find('}' + b2)\n",
    "        \n",
    "        if j != -1:\n",
    "            s_format = s_format.replace(b1, '\\033[1m')\n",
    "            s_format = s_format.replace(b2, '\\033[0m')\n",
    "        else:\n",
    "            err_msg3 = \"Trailing bold indicator not found. Expected '_b with b_'.\"\n",
    "            raise LookupError(err_msg3)\n",
    "            \n",
    "        i = s_format.find(b1 + '{')\n",
    "    \n",
    "    # Now combine string with data:\n",
    "    mismatch_err = 'Format placeholders != data items'\n",
    "    \n",
    "    if isinstance(data, (tuple, list)):\n",
    "        if s_format.count('{}') != len(data):\n",
    "            raise IndexError(mismatch_err)\n",
    "        return s_format.format(*data)\n",
    "    \n",
    "    elif isinstance(data, dict):\n",
    "        if '{}' not in s_format:\n",
    "            # eg, assume keys given as indices: 'a is {a}, b is {b}'\n",
    "            return s_format.format_map(data)\n",
    "        else:\n",
    "            if s_format.count('{}') != len(data.values()):\n",
    "                raise IndexError(mismatch_err)\n",
    "            return s_format.format(*data.values())\n",
    "    else:\n",
    "        if s_format.count('{}') != 1:\n",
    "            raise IndexError(mismatch_err)\n",
    "        return s_format.format(data)"
   ]
  },
  {
   "cell_type": "code",
   "execution_count": 25,
   "metadata": {},
   "outputs": [
    {
     "name": "stdout",
     "output_type": "stream",
     "text": [
      "Sometimes \u001b[1mCat\u001b[0m is \u001b[1maway\u001b[0m.\n"
     ]
    }
   ],
   "source": [
    "# Well formated input:\n",
    "\n",
    "fmt1 = 'Sometimes _b{}b_ {} _b{}b_.'\n",
    "data = ['Cat', 'is', 'away']\n",
    "print(format_with_bold(fmt1, data))"
   ]
  },
  {
   "cell_type": "code",
   "execution_count": 26,
   "metadata": {},
   "outputs": [
    {
     "name": "stdout",
     "output_type": "stream",
     "text": [
      "Often, but not on Tuesdays, \u001b[1mCat is far away\u001b[0m.\n"
     ]
    }
   ],
   "source": [
    "# As long as the bold indicators are balanced & ordered, they can be anywhere:\n",
    "\n",
    "fmt2 = 'Often, but not on Tuesdays, _b{} {} far {}b_.'\n",
    "print(format_with_bold(fmt2, data))"
   ]
  },
  {
   "cell_type": "markdown",
   "metadata": {},
   "source": [
    "***\n",
    "***"
   ]
  },
  {
   "cell_type": "markdown",
   "metadata": {},
   "source": [
    "<div style=\"text-align:center;background:#c2d3ef;padding:16px;color:#ffffff;font-size:2em;width:98%\"><h3>Miscellany</h3></div>"
   ]
  },
  {
   "cell_type": "markdown",
   "metadata": {},
   "source": [
    "---\n",
    "# UTF-8 Geometric Shapes \n",
    "[(List)](https://www.w3schools.com/charsets/ref_utf_geometric.asp)\n",
    "\n",
    "### Ranges:\n",
    "* Decimal: 9632-9727\n",
    "* Hex: 25A0-25FF\n",
    "\n",
    "### Usage:\n",
    "```\n",
    "<p>A tiny triangle: &#x25FA;</p>\n",
    "```\n",
    "Output:\n",
    "<p>A tiny triangle:  &#x25FA;</p>"
   ]
  },
  {
   "cell_type": "markdown",
   "metadata": {},
   "source": [
    "---\n",
    "# Extra: ANSI excape codes \n",
    "\n",
    "See wiki: https://en.wikipedia.org/wiki/ANSI_escape_code"
   ]
  },
  {
   "cell_type": "markdown",
   "metadata": {},
   "source": [
    "# CSI \"Control Sequence Introducer\" commands\n",
    "\n",
    "```\n",
    "ESC[ 38;5;<n> m Select foreground color\n",
    "ESC[ 48;5;<n> m Select background color\n",
    "    0-  7:  standard colors (as in ESC [ 30–37 m)\n",
    "    8- 15:  high intensity colors (as in ESC [ 90–97 m)\n",
    "   16-231:  6 × 6 × 6 cube (216 colors): 16 + 36 × r + 6 × g + b (0 ≤ r, g, b ≤ 5)\n",
    "  232-255:  grayscale from black to white in 24 steps\n",
    "```"
   ]
  },
  {
   "cell_type": "markdown",
   "metadata": {},
   "source": [
    "---"
   ]
  },
  {
   "cell_type": "markdown",
   "metadata": {},
   "source": [
    "### These format should work at the command line as well (...or better!)"
   ]
  },
  {
   "cell_type": "code",
   "execution_count": 27,
   "metadata": {},
   "outputs": [
    {
     "name": "stdout",
     "output_type": "stream",
     "text": [
      "\u001b[0;0;0mSome simple string\u001b[0;0;m\n",
      "\u001b[0;0;1mSome simple string\u001b[0;0;m\n",
      "\u001b[0;0;4mSome simple string\u001b[0;0;m\n",
      "\u001b[45;37;4mSome simple string\u001b[0;0;m\n",
      "\n"
     ]
    }
   ],
   "source": [
    "s = \"Some simple string\"\n",
    "ESC_ = '\\033['\n",
    "\n",
    "print(f\"{ESC_}0;0;0m{s}{ESC_}0;0;m\")\n",
    "print(f\"{ESC_}0;0;1m{s}{ESC_}0;0;m\")\n",
    "print(f\"{ESC_}0;0;4m{s}{ESC_}0;0;m\") #4m: underline\n",
    "#print(f\"{ESC_}1;38;41m{s}{ESC_}1;38;0m\")\n",
    "print(f\"{ESC_}45;37;4m{s}{ESC_}0;0;m\\n\")"
   ]
  },
  {
   "cell_type": "code",
   "execution_count": 28,
   "metadata": {
    "scrolled": true
   },
   "outputs": [
    {
     "name": "stdout",
     "output_type": "stream",
     "text": [
      "\u001b[0;0;41mSome simple string\u001b[0;0;m\n",
      "\u001b[0;0;42mSome simple string\u001b[0;0;m\n",
      "\u001b[0;0;43mSome simple string\u001b[0;0;m\n",
      "\u001b[0;0;44mSome simple string\u001b[0;0;m\n"
     ]
    }
   ],
   "source": [
    "print(f\"{ESC_}0;0;41m{s}{ESC_}0;0;m\")\n",
    "print(f\"{ESC_}0;0;42m{s}{ESC_}0;0;m\")\n",
    "print(f\"{ESC_}0;0;43m{s}{ESC_}0;0;m\")\n",
    "print(f\"{ESC_}0;0;44m{s}{ESC_}0;0;m\")"
   ]
  },
  {
   "cell_type": "code",
   "execution_count": 29,
   "metadata": {},
   "outputs": [
    {
     "name": "stdout",
     "output_type": "stream",
     "text": [
      "\u001b[0;0;45mSome simple string\u001b[0;0;m\n",
      "\u001b[41;4;11mSome simple string\u001b[m\n",
      "\u001b[0;0;46mSome simple string\u001b[0;0;m\n",
      "\u001b[10;0;41mSome simple string\u001b[m\n"
     ]
    }
   ],
   "source": [
    "print(f\"{ESC_}0;0;45m{s}{ESC_}0;0;m\")\n",
    "print(f\"{ESC_}41;4;11m{s}{ESC_}m\")\n",
    "print(f\"{ESC_}0;0;46m{s}{ESC_}0;0;m\")\n",
    "print(f\"{ESC_}10;0;41m{s}{ESC_}m\")"
   ]
  },
  {
   "cell_type": "code",
   "execution_count": 30,
   "metadata": {},
   "outputs": [
    {
     "name": "stdout",
     "output_type": "stream",
     "text": [
      "\u001b[5;37;0mNormal text\u001b[5;37;m\n",
      "\u001b[5;51;0mNormal text2\u001b[5;37;m\n",
      "\u001b[5;38;1mBold text\u001b[5;38;0m\n",
      "\u001b[5;38;2mFaint text\u001b[5;37;0m\n",
      "\u001b[5;37;5mBright Colour\u001b[5;37;m\n",
      "\u001b[5;37;4mUnderlined text\u001b[5;37;m\n",
      "\u001b[3;37;mNegative Colour\u001b[0;37;m\n",
      "\u001b[4;37;mwhich? Colour\u001b[0;37;m\n",
      "\u001b[5;37;mNegative Colour\u001b[0;37;m\n"
     ]
    }
   ],
   "source": [
    "# these may not render properly\n",
    "\n",
    "print(\"\\033[5;37;0m{}\\033[5;37;m\".format('Normal text'))\n",
    "print(\"\\033[5;51;0m{}\\033[5;37;m\".format('Normal text2'))\n",
    "\n",
    "print(\"\\033[5;38;1m{}\\033[5;38;0m\".format('Bold text'))\n",
    "print(\"\\033[5;38;2m{}\\033[5;37;0m\".format('Faint text'))\n",
    "\n",
    "#print(\"\\033[1;31;50m{}\\033[0m 1;31;50m \\n\".format('Some text')) \n",
    "#print(\"\\033[1;37;40m{}\\033[0m 1;37;40m \\n\".format('Some text')) \n",
    "\n",
    "print(\"\\033[5;37;5m{}\\033[5;37;m\".format('Bright Colour'))\n",
    "print(\"\\033[5;37;4m{}\\033[5;37;m\".format('Underlined text'))\n",
    "\n",
    "print(\"\\033[3;37;m{}\\033[0;37;m\".format('Negative Colour'))\n",
    "print(\"\\033[4;37;m{}\\033[0;37;m\".format('which? Colour'))\n",
    "print(\"\\033[5;37;m{}\\033[0;37;m\".format('Negative Colour'))"
   ]
  },
  {
   "cell_type": "markdown",
   "metadata": {},
   "source": [
    "***"
   ]
  }
 ],
 "metadata": {
  "kernelspec": {
   "display_name": "Python 3",
   "language": "python",
   "name": "python3"
  },
  "language_info": {
   "codemirror_mode": {
    "name": "ipython",
    "version": 3
   },
   "file_extension": ".py",
   "mimetype": "text/x-python",
   "name": "python",
   "nbconvert_exporter": "python",
   "pygments_lexer": "ipython3",
   "version": "3.6.7"
  }
 },
 "nbformat": 4,
 "nbformat_minor": 4
}
