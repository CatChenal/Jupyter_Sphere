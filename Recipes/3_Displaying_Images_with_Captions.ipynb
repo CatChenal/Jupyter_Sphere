{
 "cells": [
  {
   "cell_type": "markdown",
   "metadata": {},
   "source": [
    "# Displaying Images with Captions\n",
    "Functions in `display_figure.py`\n",
    "***"
   ]
  },
  {
   "cell_type": "code",
   "execution_count": 1,
   "metadata": {},
   "outputs": [],
   "source": [
    "import numpy as np\n",
    "\n",
    "import IPython\n",
    "IPython.__version__\n",
    "# '7.11.0'\n",
    "\n",
    "from IPython.display import Markdown\n",
    "from IPython.core.interactiveshell import InteractiveShell\n",
    "InteractiveShell.ast_node_interactivity = \"all\"\n",
    "\n",
    "from IPython import get_ipython\n",
    "\n",
    "# autoreload extension\n",
    "from IPython import get_ipython\n",
    "ipython = get_ipython()\n",
    "\n",
    "if 'autoreload' not in ipython.extension_manager.loaded:\n",
    "    %load_ext autoreload\n",
    "\n",
    "%autoreload 2"
   ]
  },
  {
   "cell_type": "code",
   "execution_count": 2,
   "metadata": {},
   "outputs": [],
   "source": [
    "# local lib\n",
    "from display_figure import display_figure"
   ]
  },
  {
   "cell_type": "markdown",
   "metadata": {},
   "source": [
    "## The `display_figure` function:\n",
    "\n",
    "In README, I show the html code to write in a Markdown cell in order to add a caption when inserting an existing figure.  \n",
    "The `display_figure` function does the same: it is a wrapper to programmatially place an image inside an html \\<figure tag\\>.<br>  \n",
    "It allows flexible tag-styling by passing style dicts.\n",
    "\n",
    "The last argument, `return_html_str` (default, True) determines whether the html output is rendered or not (default), in which case the html string is returned."
   ]
  },
  {
   "cell_type": "markdown",
   "metadata": {},
   "source": [
    "## Examples:"
   ]
  },
  {
   "cell_type": "markdown",
   "metadata": {},
   "source": [
    "### Using an image url"
   ]
  },
  {
   "cell_type": "code",
   "execution_count": 3,
   "metadata": {},
   "outputs": [
    {
     "data": {
      "text/html": [
       "\n",
       "      <figure style=\"display:inline-block; text-align:center; \">\n",
       "      <img src=\"https://upload.wikimedia.org/wikipedia/commons/thumb/1/1d/Sancerre_france.jpg/405px-Sancerre_france.jpg\" \n",
       "         alt=\"x\"\n",
       "         style=\"display:block; width:700px; height:500px; \"\n",
       "         title=\"pic from wikipedia\"\n",
       "      >\n",
       "      <figcaption style=\"color:teal; font-weight:bold; font-family:Arial, Helvetica, sans-serif; \">\n",
       "         Figure 1 - Picture from wikipedia <a href=\"https://en.wikipedia.org/wiki/Sancerre\">Sancerre</a>\n",
       "      </figcaption>\n",
       "    </figure>\n",
       "    "
      ],
      "text/plain": [
       "<IPython.core.display.HTML object>"
      ]
     },
     "execution_count": 3,
     "metadata": {},
     "output_type": "execute_result"
    }
   ],
   "source": [
    "style_dict = {'figure': {'display':'inline-block', 'text-align':'center'},\n",
    "              'image': {'display':'block', 'width': 700, 'height':500},\n",
    "              'caption': {'color':'teal','font-weight':'bold',\n",
    "                          'font-family': 'Arial, Helvetica, sans-serif'} }\n",
    "\n",
    "caption_dict = {'number': 1, \n",
    "                'caption': 'Picture from wikipedia <a href=\"https://en.wikipedia.org/wiki/Sancerre\">Sancerre</a>'}\n",
    "\n",
    "fname = 'https://upload.wikimedia.org/wikipedia/commons/thumb/1/1d/Sancerre_france.jpg/405px-Sancerre_france.jpg'\n",
    "\n",
    "display_figure(fname, style_dict, caption_dict, img_title='pic from wikipedia',\n",
    "              return_html_str=False)"
   ]
  },
  {
   "cell_type": "markdown",
   "metadata": {},
   "source": [
    "### To change something in the styles/caption, e.g. due to:\n",
    " * cell reordering\n",
    " * adjustment to the width\n",
    " * other tweaks\n",
    "  \n",
    "#### then you only need to update the dict values and re-run:"
   ]
  },
  {
   "cell_type": "code",
   "execution_count": 4,
   "metadata": {},
   "outputs": [
    {
     "data": {
      "text/html": [
       "\n",
       "      <figure style=\"display:inline-block; text-align:left; \">\n",
       "      <img src=\"https://upload.wikimedia.org/wikipedia/commons/thumb/1/1d/Sancerre_france.jpg/405px-Sancerre_france.jpg\" \n",
       "         alt=\"x\"\n",
       "         style=\"display:block; width:400px; height:400px; \"\n",
       "         title=\"pic from wikipedia\"\n",
       "      >\n",
       "      <figcaption style=\"color:red; font-weight:bold; font-family:Arial, Helvetica, sans-serif; \">\n",
       "         Figure 2 - Picture from wikipedia <a href=\"https://en.wikipedia.org/wiki/Sancerre\">Sancerre</a>\n",
       "      </figcaption>\n",
       "    </figure>\n",
       "    "
      ],
      "text/plain": [
       "<IPython.core.display.HTML object>"
      ]
     },
     "execution_count": 4,
     "metadata": {},
     "output_type": "execute_result"
    }
   ],
   "source": [
    "style_dict['figure'].update([('text-align', 'left')])\n",
    "style_dict['image'].update([('width', 400), ('height', 400)])\n",
    "style_dict['caption'].update([('color', 'red')])\n",
    "caption_dict.update([('number', 2)])\n",
    "\n",
    "display_figure(fname, style_dict, caption_dict, img_title='pic from wikipedia', return_html_str=False)"
   ]
  },
  {
   "cell_type": "markdown",
   "metadata": {},
   "source": [
    "### Using a local file"
   ]
  },
  {
   "cell_type": "code",
   "execution_count": 5,
   "metadata": {},
   "outputs": [
    {
     "data": {
      "text/html": [
       "\n",
       "      <figure style=\"display:inline-block; text-align:center; \">\n",
       "      <img src=\"images/Finley.JPG\" \n",
       "         alt=\"x\"\n",
       "         style=\"display:block; width:400px; height:450px; \"\n",
       "         title=\"John Finley Walk\"\n",
       "      >\n",
       "      <figcaption style=\"color:teal; font-weight:bold; font-family:Arial, Helvetica, sans-serif; \">\n",
       "         Figure 2 - (local) - <a href=\"https://en.wikipedia.org/wiki/John_Huston_Finley\">John Finley Walk</a>\n",
       "      </figcaption>\n",
       "    </figure>\n",
       "    "
      ],
      "text/plain": [
       "<IPython.core.display.HTML object>"
      ]
     },
     "execution_count": 5,
     "metadata": {},
     "output_type": "execute_result"
    }
   ],
   "source": [
    "style_dict2 = {'figure': {'display':'inline-block', 'text-align':'center'},\n",
    "              'image': {'display':'block', 'width': 400, 'height':450},\n",
    "              'caption': {'color':'teal','font-weight':'bold',\n",
    "                          'font-family': 'Arial, Helvetica, sans-serif'} }\n",
    "\n",
    "caption_dict2 = {'number': 2, \n",
    "                'caption': '(local) - <a href=\"https://en.wikipedia.org/wiki/John_Huston_Finley\">John Finley Walk</a>'}\n",
    "\n",
    "fname2 = 'images/Finley.JPG'\n",
    "\n",
    "display_figure(fname2, style_dict2, caption_dict2, img_title='John Finley Walk',\n",
    "              return_html_str=False)"
   ]
  },
  {
   "cell_type": "code",
   "execution_count": 6,
   "metadata": {},
   "outputs": [
    {
     "name": "stdout",
     "output_type": "stream",
     "text": [
      "\n",
      "      <figure style=\"display:inline-block; text-align:center; \">\n",
      "      <img src=\"images/Finley.JPG\" \n",
      "         alt=\"x\"\n",
      "         style=\"display:block; width:400px; height:450px; \"\n",
      "         title=\"John Finley Walk\"\n",
      "      >\n",
      "      <figcaption style=\"color:teal; font-weight:bold; font-family:Arial, Helvetica, sans-serif; \">\n",
      "         Figure 2 - (local) - <a href=\"https://en.wikipedia.org/wiki/John_Huston_Finley\">John Finley Walk</a>\n",
      "      </figcaption>\n",
      "    </figure>\n",
      "    \n"
     ]
    }
   ],
   "source": [
    "print(display_figure(fname2, style_dict2, caption_dict2, img_title='John Finley Walk'))"
   ]
  }
 ],
 "metadata": {
  "kernelspec": {
   "display_name": "Python 3",
   "language": "python",
   "name": "python3"
  },
  "language_info": {
   "codemirror_mode": {
    "name": "ipython",
    "version": 3
   },
   "file_extension": ".py",
   "mimetype": "text/x-python",
   "name": "python",
   "nbconvert_exporter": "python",
   "pygments_lexer": "ipython3",
   "version": "3.6.7"
  }
 },
 "nbformat": 4,
 "nbformat_minor": 4
}
