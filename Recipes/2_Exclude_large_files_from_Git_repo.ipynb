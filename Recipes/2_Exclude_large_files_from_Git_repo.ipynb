{
 "cells": [
  {
   "cell_type": "markdown",
   "metadata": {},
   "source": [
    "---\n",
    "---\n",
    "# Updating a repo's `.git/info/exclude` file to exclude large files\n",
    "---\n",
    "\n",
    "## Two possible ways, only one taken...\n",
    "\n",
    "There are two way to exclude files (for whatever reasons) within a folder that a git repo:  \n",
    "1. Use a `.gitignore` file\n",
    "2. Use the `exclude` file in the `.git/info` folder\n",
    "\n",
    "I have chosen the second option to implement the automatic exclusion of files with size greater than the GitHub limit (currently at 100MB).  \n",
    "The reasons are logic and portability:  \n",
    "* The .git folder is unique, at least under _normal usage_ of code versioning with git, and won't work in any other folder.  \n",
    "* The .gitignore file can be copy in multiple subfolders within a repo, and amended differently therein; the desire outcome might work but it will depend on your keeping track of precedence hierarchy git uses to apply the exclusions. Here is a small portion of what the offical [Git docs say](https://git-scm.com/docs/gitignore):\n",
    ">When deciding whether to ignore a path, Git normally checks gitignore patterns from multiple sources, with the following order of precedence, from highest to lowest (within one level of precedence, the last matching pattern decides the outcome):\n",
    "\n",
    "> * Patterns read from the command line for those commands that support them.\n",
    "> * Patterns read from a `.gitignore` file in the same directory as the path, or in any parent directory, with patterns in the higher level files (up to the toplevel of the work tree) being overridden by those in lower level files down to the directory containing the file. These patterns match relative to the location of the `.gitignore` file. A project normally includes such `.gitignore` files in its repository, containing patterns for files generated as part of the project build.\n",
    "> * Patterns read from `$GIT_DIR/info/exclude`.\n",
    "> * Patterns read from the file specified by the configuration variable `core.excludesFile`."
   ]
  },
  {
   "cell_type": "markdown",
   "metadata": {},
   "source": [
    "---\n",
    "## Implementation:\n",
    "\n",
    "I only use the `pathlib.Path` and `sys` libraries. The latter is used in a refinement of the update message if the code was run from a Jupyter notebook (lab or classic).\n",
    "\n",
    "I have written 3 functions:\n",
    "\n",
    "1. `find_bigfiles`(data_folder, gte_size=100, verbose=False)\n",
    "```\n",
    "    Return a list of file paths (truncated from the name part of data_folder.name)\n",
    "    for all file exceeding gte_size MB.\n",
    "```\n",
    "2. `is_git_repo`(folder_path)\n",
    "```\n",
    "    Return True if folder contains a .git folder, else False.\n",
    "```\n",
    "3. `update_git_info_exclude`(top_folder_path, data_folder_name)\n",
    "```\n",
    "    Update the $GIT_DIR/info/exclude file with paths of \n",
    "    found big files, so that separate .gitignore file \n",
    "    stays generic (portable).\n",
    "```\n",
    "\n",
    "## Module: `git_info_exclude.py`\n",
    "\n",
    "Although I am going to add the functions in my noetebook template, I've put them in a module, which also contains the following 'test' function to determine whether the python code is running in a notebook:\n",
    "```\n",
    "def test_ipkernel(verbose=False):\n",
    "    found = 'ipykernel_launcher.py' in sys.argv[0]\n",
    "    if verbose:\n",
    "        which = 'IS' if found else 'IS NOT'\n",
    "        msg = f'Code *{which}* running in Jupyter platform (notebook, lab, etc.)'       \n",
    "        print(msg)\n",
    "    return found\n",
    "```\n",
    "Note: I've only tested the function in JupyterLab and VS Code, it might not work in Spyder."
   ]
  },
  {
   "cell_type": "raw",
   "metadata": {},
   "source": [
    "from pathlib import Path\n",
    "import sys\n",
    "\n",
    "\n",
    "def find_bigfiles(data_folder, gte_size=100, verbose=False):\n",
    "    \"\"\"\n",
    "    Return a list of file paths (truncated from the name part of data_folder.name)\n",
    "    for all file exceeding gte_size MB.\n",
    "    gte_size: multiple of 1 MB => 100 MB default.\n",
    "           :: github file size limit = 100 * 2^20\n",
    "    \"\"\"\n",
    "    if gte_size == 0:\n",
    "        print('No file size limit: gte_size=0.')\n",
    "        return\n",
    "\n",
    "    mb = 2**20  #kb = 2**10   #gb = 2**30\n",
    "    size_limit = gte_size * mb\n",
    "    \n",
    "    out = []\n",
    "    p = Path(data_folder)\n",
    "    \n",
    "    # output only parts from data_folder name, i.e.: data/file.csv\n",
    "    for f in p.glob('**/*.*'):\n",
    "        if f.stat().st_size >= size_limit:\n",
    "            parent_idx = f.parts.index(p.name)\n",
    "            fout = '/'.join(f for f in f.parts[parent_idx:])\n",
    "            out.append(fout)\n",
    "            \n",
    "            if verbose: print(f, '\\t', f.stat().st_size)\n",
    "    return out\n",
    "\n",
    "\n",
    "def is_git_repo(folder_path):\n",
    "    \"\"\"\n",
    "    Return True if folder contains a .git folder.\n",
    "    \"\"\"\n",
    "    return Path(folder_path).joinpath('.git').is_dir()\n",
    "\n",
    "\n",
    "def update_git_info_exclude(top_folder_path, data_folder_name):\n",
    "    \"\"\"Update the $GIT_DIR/info/exclude file with\n",
    "       paths of found big files, so that separate .gitignore\n",
    "       file stays generic (portable).\n",
    "    \"\"\"\n",
    "    import sys\n",
    "    \n",
    "    repo = Path(top_folder_path)\n",
    "    if not is_git_repo(repo):\n",
    "        msg = f'Folder: {top_folder_path} is not a repo.'\n",
    "        msg += '\\nType `>git init .` to initialize.'\n",
    "        print(msg)\n",
    "        return\n",
    "\n",
    "    data_folder = repo.joinpath(data_folder_name)\n",
    "    bigones = find_bigfiles(data_folder)\n",
    "    if len(bigones) == 0:\n",
    "        print(f'No GitHub big files (>= 100 MB) found in {data_folder}.')\n",
    "        return\n",
    "    \n",
    "    git_exclude = repo.joinpath('.git', 'info', 'exclude')\n",
    "\n",
    "    with git_exclude.open(mode='r+') as fh:\n",
    "        content = [line.strip('\\n') for line in fh.readlines()]\n",
    "        for fname in bigones:\n",
    "            if fname not in content:\n",
    "                n = fh.write('\\n' + fname)\n",
    "                \n",
    "    msg = 'Updated .git/info/exclude file.\\n'            \n",
    "    if 'ipykernel_launcher.py' in sys.argv[0]:               \n",
    "        msg += 'Enter `%load .git/info/exclude` in a cell to verify.'\n",
    "    print(msg)\n",
    "    return"
   ]
  },
  {
   "cell_type": "code",
   "execution_count": 1,
   "metadata": {},
   "outputs": [],
   "source": [
    "from pathlib import Path\n",
    "\n",
    "import git_info_exclude"
   ]
  },
  {
   "cell_type": "code",
   "execution_count": 2,
   "metadata": {},
   "outputs": [
    {
     "name": "stdout",
     "output_type": "stream",
     "text": [
      "Updated .git/info/exclude file.\n",
      "Enter `%load .git/info/exclude` in a cell to verify.\n"
     ]
    }
   ],
   "source": [
    "repo = Path.cwd()\n",
    "\n",
    "git_info_exclude.update_git_info_exclude(repo, 'data')"
   ]
  },
  {
   "cell_type": "markdown",
   "metadata": {},
   "source": [
    "Uncomment the next cell to verify the file:"
   ]
  },
  {
   "cell_type": "code",
   "execution_count": null,
   "metadata": {},
   "outputs": [],
   "source": [
    "#%load .git/info/exclude"
   ]
  }
 ],
 "metadata": {
  "kernelspec": {
   "display_name": "Python 3",
   "language": "python",
   "name": "python3"
  },
  "language_info": {
   "codemirror_mode": {
    "name": "ipython",
    "version": 3
   },
   "file_extension": ".py",
   "mimetype": "text/x-python",
   "name": "python",
   "nbconvert_exporter": "python",
   "pygments_lexer": "ipython3",
   "version": "3.6.7"
  }
 },
 "nbformat": 4,
 "nbformat_minor": 4
}
